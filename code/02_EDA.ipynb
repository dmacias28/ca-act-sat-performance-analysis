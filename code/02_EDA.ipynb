{
 "cells": [
  {
   "cell_type": "markdown",
   "metadata": {},
   "source": [
    "# 02: Exploratory Data Analysis\n",
    "---"
   ]
  },
  {
   "cell_type": "markdown",
   "metadata": {},
   "source": [
    "## 1. Imports"
   ]
  },
  {
   "cell_type": "code",
   "execution_count": 1,
   "metadata": {},
   "outputs": [],
   "source": [
    "import pandas as pd\n",
    "import numpy as np\n",
    "import matplotlib.pyplot as plt\n",
    "import seaborn as sns"
   ]
  },
  {
   "cell_type": "markdown",
   "metadata": {},
   "source": [
    "---\n",
    "## 2. ACT"
   ]
  },
  {
   "cell_type": "code",
   "execution_count": 2,
   "metadata": {},
   "outputs": [],
   "source": [
    "act = pd.read_csv('../data/clean_act_2019_ca.csv')"
   ]
  },
  {
   "cell_type": "code",
   "execution_count": 3,
   "metadata": {},
   "outputs": [
    {
     "data": {
      "text/html": [
       "<div>\n",
       "<style scoped>\n",
       "    .dataframe tbody tr th:only-of-type {\n",
       "        vertical-align: middle;\n",
       "    }\n",
       "\n",
       "    .dataframe tbody tr th {\n",
       "        vertical-align: top;\n",
       "    }\n",
       "\n",
       "    .dataframe thead th {\n",
       "        text-align: right;\n",
       "    }\n",
       "</style>\n",
       "<table border=\"1\" class=\"dataframe\">\n",
       "  <thead>\n",
       "    <tr style=\"text-align: right;\">\n",
       "      <th></th>\n",
       "      <th>school_name</th>\n",
       "      <th>district_name</th>\n",
       "      <th>county_name</th>\n",
       "      <th>grade_12_enrollment</th>\n",
       "      <th>total_num_test_takers</th>\n",
       "      <th>avg_reading</th>\n",
       "      <th>avg_english</th>\n",
       "      <th>avg_math</th>\n",
       "      <th>avg_science</th>\n",
       "      <th>num_test_takers_21</th>\n",
       "      <th>perc_participation</th>\n",
       "      <th>pct_test_takers_21</th>\n",
       "      <th>year</th>\n",
       "    </tr>\n",
       "  </thead>\n",
       "  <tbody>\n",
       "    <tr>\n",
       "      <th>0</th>\n",
       "      <td>Abraham Lincoln High</td>\n",
       "      <td>San Jose Unified</td>\n",
       "      <td>Santa Clara</td>\n",
       "      <td>463.0</td>\n",
       "      <td>53.0</td>\n",
       "      <td>23.0</td>\n",
       "      <td>22.0</td>\n",
       "      <td>22.0</td>\n",
       "      <td>23.0</td>\n",
       "      <td>34.0</td>\n",
       "      <td>11.447084</td>\n",
       "      <td>64.15</td>\n",
       "      <td>2018-19</td>\n",
       "    </tr>\n",
       "    <tr>\n",
       "      <th>1</th>\n",
       "      <td>Abraham Lincoln Senior High</td>\n",
       "      <td>Los Angeles Unified</td>\n",
       "      <td>Los Angeles</td>\n",
       "      <td>226.0</td>\n",
       "      <td>19.0</td>\n",
       "      <td>21.0</td>\n",
       "      <td>20.0</td>\n",
       "      <td>23.0</td>\n",
       "      <td>22.0</td>\n",
       "      <td>11.0</td>\n",
       "      <td>8.407080</td>\n",
       "      <td>57.89</td>\n",
       "      <td>2018-19</td>\n",
       "    </tr>\n",
       "    <tr>\n",
       "      <th>2</th>\n",
       "      <td>Academia Avance Charter</td>\n",
       "      <td>SBE - Academia Avance Charter</td>\n",
       "      <td>Los Angeles</td>\n",
       "      <td>65.0</td>\n",
       "      <td>33.0</td>\n",
       "      <td>15.0</td>\n",
       "      <td>15.0</td>\n",
       "      <td>17.0</td>\n",
       "      <td>16.0</td>\n",
       "      <td>3.0</td>\n",
       "      <td>50.769231</td>\n",
       "      <td>9.09</td>\n",
       "      <td>2018-19</td>\n",
       "    </tr>\n",
       "    <tr>\n",
       "      <th>3</th>\n",
       "      <td>Academies of Education and Empowerment at Cars...</td>\n",
       "      <td>Los Angeles Unified</td>\n",
       "      <td>Los Angeles</td>\n",
       "      <td>126.0</td>\n",
       "      <td>16.0</td>\n",
       "      <td>18.0</td>\n",
       "      <td>18.0</td>\n",
       "      <td>18.0</td>\n",
       "      <td>17.0</td>\n",
       "      <td>5.0</td>\n",
       "      <td>12.698413</td>\n",
       "      <td>31.25</td>\n",
       "      <td>2018-19</td>\n",
       "    </tr>\n",
       "    <tr>\n",
       "      <th>4</th>\n",
       "      <td>Academy of the Canyons</td>\n",
       "      <td>William S. Hart Union High</td>\n",
       "      <td>Los Angeles</td>\n",
       "      <td>104.0</td>\n",
       "      <td>36.0</td>\n",
       "      <td>29.0</td>\n",
       "      <td>29.0</td>\n",
       "      <td>25.0</td>\n",
       "      <td>25.0</td>\n",
       "      <td>34.0</td>\n",
       "      <td>34.615385</td>\n",
       "      <td>94.44</td>\n",
       "      <td>2018-19</td>\n",
       "    </tr>\n",
       "    <tr>\n",
       "      <th>...</th>\n",
       "      <td>...</td>\n",
       "      <td>...</td>\n",
       "      <td>...</td>\n",
       "      <td>...</td>\n",
       "      <td>...</td>\n",
       "      <td>...</td>\n",
       "      <td>...</td>\n",
       "      <td>...</td>\n",
       "      <td>...</td>\n",
       "      <td>...</td>\n",
       "      <td>...</td>\n",
       "      <td>...</td>\n",
       "      <td>...</td>\n",
       "    </tr>\n",
       "    <tr>\n",
       "      <th>1362</th>\n",
       "      <td>Yorba Linda High</td>\n",
       "      <td>Placentia-Yorba Linda Unified</td>\n",
       "      <td>Orange</td>\n",
       "      <td>448.0</td>\n",
       "      <td>104.0</td>\n",
       "      <td>25.0</td>\n",
       "      <td>24.0</td>\n",
       "      <td>25.0</td>\n",
       "      <td>24.0</td>\n",
       "      <td>83.0</td>\n",
       "      <td>23.214286</td>\n",
       "      <td>79.81</td>\n",
       "      <td>2018-19</td>\n",
       "    </tr>\n",
       "    <tr>\n",
       "      <th>1363</th>\n",
       "      <td>Yosemite High</td>\n",
       "      <td>Yosemite Unified</td>\n",
       "      <td>Madera</td>\n",
       "      <td>135.0</td>\n",
       "      <td>33.0</td>\n",
       "      <td>22.0</td>\n",
       "      <td>21.0</td>\n",
       "      <td>22.0</td>\n",
       "      <td>22.0</td>\n",
       "      <td>19.0</td>\n",
       "      <td>24.444444</td>\n",
       "      <td>57.58</td>\n",
       "      <td>2018-19</td>\n",
       "    </tr>\n",
       "    <tr>\n",
       "      <th>1364</th>\n",
       "      <td>Yreka High</td>\n",
       "      <td>Yreka Union High</td>\n",
       "      <td>Siskiyou</td>\n",
       "      <td>138.0</td>\n",
       "      <td>38.0</td>\n",
       "      <td>23.0</td>\n",
       "      <td>20.0</td>\n",
       "      <td>21.0</td>\n",
       "      <td>21.0</td>\n",
       "      <td>20.0</td>\n",
       "      <td>27.536232</td>\n",
       "      <td>52.63</td>\n",
       "      <td>2018-19</td>\n",
       "    </tr>\n",
       "    <tr>\n",
       "      <th>1365</th>\n",
       "      <td>Yuba City High</td>\n",
       "      <td>Yuba City Unified</td>\n",
       "      <td>Sutter</td>\n",
       "      <td>394.0</td>\n",
       "      <td>56.0</td>\n",
       "      <td>23.0</td>\n",
       "      <td>21.0</td>\n",
       "      <td>22.0</td>\n",
       "      <td>22.0</td>\n",
       "      <td>35.0</td>\n",
       "      <td>14.213198</td>\n",
       "      <td>62.50</td>\n",
       "      <td>2018-19</td>\n",
       "    </tr>\n",
       "    <tr>\n",
       "      <th>1366</th>\n",
       "      <td>Yucaipa High</td>\n",
       "      <td>Yucaipa-Calimesa Joint Unified</td>\n",
       "      <td>San Bernardino</td>\n",
       "      <td>628.0</td>\n",
       "      <td>61.0</td>\n",
       "      <td>24.0</td>\n",
       "      <td>22.0</td>\n",
       "      <td>22.0</td>\n",
       "      <td>22.0</td>\n",
       "      <td>40.0</td>\n",
       "      <td>9.713376</td>\n",
       "      <td>65.57</td>\n",
       "      <td>2018-19</td>\n",
       "    </tr>\n",
       "  </tbody>\n",
       "</table>\n",
       "<p>1367 rows × 13 columns</p>\n",
       "</div>"
      ],
      "text/plain": [
       "                                            school_name  \\\n",
       "0                                  Abraham Lincoln High   \n",
       "1                           Abraham Lincoln Senior High   \n",
       "2                               Academia Avance Charter   \n",
       "3     Academies of Education and Empowerment at Cars...   \n",
       "4                                Academy of the Canyons   \n",
       "...                                                 ...   \n",
       "1362                                   Yorba Linda High   \n",
       "1363                                      Yosemite High   \n",
       "1364                                         Yreka High   \n",
       "1365                                     Yuba City High   \n",
       "1366                                       Yucaipa High   \n",
       "\n",
       "                       district_name     county_name  grade_12_enrollment  \\\n",
       "0                   San Jose Unified     Santa Clara                463.0   \n",
       "1                Los Angeles Unified     Los Angeles                226.0   \n",
       "2      SBE - Academia Avance Charter     Los Angeles                 65.0   \n",
       "3                Los Angeles Unified     Los Angeles                126.0   \n",
       "4         William S. Hart Union High     Los Angeles                104.0   \n",
       "...                              ...             ...                  ...   \n",
       "1362   Placentia-Yorba Linda Unified          Orange                448.0   \n",
       "1363                Yosemite Unified          Madera                135.0   \n",
       "1364                Yreka Union High        Siskiyou                138.0   \n",
       "1365               Yuba City Unified          Sutter                394.0   \n",
       "1366  Yucaipa-Calimesa Joint Unified  San Bernardino                628.0   \n",
       "\n",
       "      total_num_test_takers  avg_reading  avg_english  avg_math  avg_science  \\\n",
       "0                      53.0         23.0         22.0      22.0         23.0   \n",
       "1                      19.0         21.0         20.0      23.0         22.0   \n",
       "2                      33.0         15.0         15.0      17.0         16.0   \n",
       "3                      16.0         18.0         18.0      18.0         17.0   \n",
       "4                      36.0         29.0         29.0      25.0         25.0   \n",
       "...                     ...          ...          ...       ...          ...   \n",
       "1362                  104.0         25.0         24.0      25.0         24.0   \n",
       "1363                   33.0         22.0         21.0      22.0         22.0   \n",
       "1364                   38.0         23.0         20.0      21.0         21.0   \n",
       "1365                   56.0         23.0         21.0      22.0         22.0   \n",
       "1366                   61.0         24.0         22.0      22.0         22.0   \n",
       "\n",
       "      num_test_takers_21  perc_participation  pct_test_takers_21     year  \n",
       "0                   34.0           11.447084               64.15  2018-19  \n",
       "1                   11.0            8.407080               57.89  2018-19  \n",
       "2                    3.0           50.769231                9.09  2018-19  \n",
       "3                    5.0           12.698413               31.25  2018-19  \n",
       "4                   34.0           34.615385               94.44  2018-19  \n",
       "...                  ...                 ...                 ...      ...  \n",
       "1362                83.0           23.214286               79.81  2018-19  \n",
       "1363                19.0           24.444444               57.58  2018-19  \n",
       "1364                20.0           27.536232               52.63  2018-19  \n",
       "1365                35.0           14.213198               62.50  2018-19  \n",
       "1366                40.0            9.713376               65.57  2018-19  \n",
       "\n",
       "[1367 rows x 13 columns]"
      ]
     },
     "execution_count": 3,
     "metadata": {},
     "output_type": "execute_result"
    }
   ],
   "source": [
    "act"
   ]
  },
  {
   "cell_type": "markdown",
   "metadata": {},
   "source": [
    "### 2.1. Schools, districts and counties"
   ]
  },
  {
   "cell_type": "code",
   "execution_count": 4,
   "metadata": {},
   "outputs": [
    {
     "name": "stdout",
     "output_type": "stream",
     "text": [
      "TOTAL COUNTS\n",
      "schools: 1367\n",
      "districts: 353\n",
      "counties: 54\n"
     ]
    }
   ],
   "source": [
    "# Original school, district and county totals\n",
    "\n",
    "print('TOTAL COUNTS')\n",
    "\n",
    "print('schools: ' + str(act.shape[0]))\n",
    "print('districts: ' + str(act[\"district_name\"].nunique()))\n",
    "print('counties: ' + str(act[\"county_name\"].nunique()))"
   ]
  },
  {
   "cell_type": "code",
   "execution_count": 5,
   "metadata": {},
   "outputs": [
    {
     "data": {
      "image/png": "[encoded data removed]",
      "text/plain": [
       "<Figure size 432x288 with 1 Axes>"
      ]
     },
     "metadata": {
      "needs_background": "light"
     },
     "output_type": "display_data"
    }
   ],
   "source": [
    "# Distribution of schools based on their % of benchmark participants (ACT)\n",
    "\n",
    "act['pct_test_takers_21'].hist(rwidth=0.96)\n",
    "\n",
    "plt.title('Distribution of schools based on \\n their % of benchmark participants (ACT)', fontsize=14)\n",
    "plt.xlabel('Benchmark Participant %')\n",
    "plt.ylabel('Schools')\n",
    "plt.grid(False);"
   ]
  },
  {
   "cell_type": "markdown",
   "metadata": {},
   "source": [
    "As a first look at how California schools are performing, here is the distribution of schools based on their percent of participants who met or exceeded the benchmark score. The distribution is not uniform, normal or skewed. There are 2 peaks, the 50-90% range and the 20-40% range, which hints to a bimodal distribution, but it's not a very strong one. The lowest points are both sides of the distribution, the 0-10% range and the 90-100% range. Both are around 75 schools."
   ]
  },
  {
   "cell_type": "code",
   "execution_count": 6,
   "metadata": {},
   "outputs": [
    {
     "data": {
      "image/png": "[encoded data removed]",
      "text/plain": [
       "<Figure size 432x288 with 1 Axes>"
      ]
     },
     "metadata": {
      "needs_background": "light"
     },
     "output_type": "display_data"
    }
   ],
   "source": [
    "# Distribution of districts based on their average % of benchmark participants (ACT)\n",
    "\n",
    "act_by_dist = act.groupby('district_name')[['pct_test_takers_21']].mean()\n",
    "\n",
    "act_by_dist.hist(rwidth=0.96)\n",
    "\n",
    "plt.title('Distribution of districts based on their \\n average % of benchmark participants (ACT)', fontsize=14)\n",
    "plt.xlabel('Benchmark Participant %')\n",
    "plt.ylabel('Districts')\n",
    "plt.grid(False);"
   ]
  },
  {
   "cell_type": "markdown",
   "metadata": {},
   "source": [
    "At the district level, the distribution becomes left-skewed. The 70-80% range is the largest peak with 60+ districts, followed by the 30-40% range with just under 50 districts. The lowest point is the 0-10% range with just over 10 districts."
   ]
  },
  {
   "cell_type": "code",
   "execution_count": 7,
   "metadata": {},
   "outputs": [
    {
     "name": "stdout",
     "output_type": "stream",
     "text": [
      "COUNTS WHERE < 10% OF PARTICIPANTS MET THE 21 BENCHMARK\n",
      "schools: 71\n",
      "districts: 29\n",
      "counties: 15\n",
      "\n",
      "PERCENT WHERE < 10% OF PARTICIPANTS MET THE 21 BENCHMARK\n",
      "schools: 5.19%\n",
      "districts: 8.22%\n",
      "counties: 27.78%\n"
     ]
    }
   ],
   "source": [
    "# Subsetted DataFrame to schools where < 10% of participants met the 21 benchmark\n",
    "\n",
    "act_21_below_10_perc = act[act['pct_test_takers_21'] < 10]\n",
    "\n",
    "print('COUNTS WHERE < 10% OF PARTICIPANTS MET THE 21 BENCHMARK')\n",
    "print('schools: ' + str(act_21_below_10_perc.shape[0]))\n",
    "print('districts: ' + str(act_21_below_10_perc[\"district_name\"].nunique()))\n",
    "print('counties: ' + str(act_21_below_10_perc[\"county_name\"].nunique()))\n",
    "\n",
    "print('')\n",
    "\n",
    "print('PERCENT WHERE < 10% OF PARTICIPANTS MET THE 21 BENCHMARK')\n",
    "print('schools: ' + str(round(act_21_below_10_perc.shape[0] / act.shape[0] * 100, 2)) + '%')\n",
    "print('districts: ' + str(round(act_21_below_10_perc[\"district_name\"].nunique() / act[\"district_name\"].nunique() * 100, 2)) + '%')\n",
    "print('counties: ' + str(round(act_21_below_10_perc[\"county_name\"].nunique() / act[\"county_name\"].nunique() * 100, 2)) + '%')"
   ]
  },
  {
   "cell_type": "markdown",
   "metadata": {},
   "source": [
    "The 0-10% range was the lowest point in both the school and district level distributions. However, having any schools or districts fall in that range is alarming. \n",
    "\n",
    "For a better understanding, I've calculated the counts of schools, districts and counties where less than 10% of participants met the benchmark score of 21. I've also calculated the percentages of those schools, districts and counties relative to their respective totals.\n",
    "\n",
    "As a result, 5% of schools fall in the 0-10% range, while 8% of districts and 28% of counties are associated with schools that fall in the 0-10% range."
   ]
  },
  {
   "cell_type": "code",
   "execution_count": 8,
   "metadata": {},
   "outputs": [
    {
     "data": {
      "image/png": "[encoded data removed]",
      "text/plain": [
       "<Figure size 432x288 with 1 Axes>"
      ]
     },
     "metadata": {
      "needs_background": "light"
     },
     "output_type": "display_data"
    }
   ],
   "source": [
    "# Benchmark Participant % vs. Participation % (ACT)\n",
    "\n",
    "plt.scatter(act['pct_test_takers_21'],\n",
    "            act['perc_participation']);\n",
    "\n",
    "plt.title('Benchmark Participant % vs. Participation % (ACT)', fontsize = 14)\n",
    "plt.xlabel('Benchmark Participant %')\n",
    "plt.ylabel('Participation %');"
   ]
  },
  {
   "cell_type": "markdown",
   "metadata": {},
   "source": [
    "In wondering if there's any relation between the percent of enrolled students who participated and the percent of participants who met or exceeded the benchmark score, I plotted them together in a scatter plot.\n",
    "\n",
    "At the school level, there are no signs of correlation. Though, it's interesting to note that schools with more than 50% participation mostly fell under 40% for participants who met or exceeded the benchmark score."
   ]
  },
  {
   "cell_type": "code",
   "execution_count": 9,
   "metadata": {
    "tags": []
   },
   "outputs": [
    {
     "name": "stdout",
     "output_type": "stream",
     "text": [
      "county_name\n",
      "Fresno            6\n",
      "Los Angeles       5\n",
      "Alameda           2\n",
      "Riverside         2\n",
      "Sacramento        2\n",
      "San Bernardino    2\n",
      "Santa Clara       2\n",
      "Contra Costa      1\n",
      "Kern              1\n",
      "Kings             1\n",
      "Modoc             1\n",
      "Monterey          1\n",
      "San Diego         1\n",
      "San Francisco     1\n",
      "San Mateo         1\n",
      "dtype: int64\n"
     ]
    },
    {
     "data": {
      "text/html": [
       "<div>\n",
       "<style scoped>\n",
       "    .dataframe tbody tr th:only-of-type {\n",
       "        vertical-align: middle;\n",
       "    }\n",
       "\n",
       "    .dataframe tbody tr th {\n",
       "        vertical-align: top;\n",
       "    }\n",
       "\n",
       "    .dataframe thead th {\n",
       "        text-align: right;\n",
       "    }\n",
       "</style>\n",
       "<table border=\"1\" class=\"dataframe\">\n",
       "  <thead>\n",
       "    <tr style=\"text-align: right;\">\n",
       "      <th></th>\n",
       "      <th></th>\n",
       "      <th>pct_test_takers_21</th>\n",
       "    </tr>\n",
       "    <tr>\n",
       "      <th>county_name</th>\n",
       "      <th>district_name</th>\n",
       "      <th></th>\n",
       "    </tr>\n",
       "  </thead>\n",
       "  <tbody>\n",
       "    <tr>\n",
       "      <th>San Mateo</th>\n",
       "      <th>Ravenswood City Elementary</th>\n",
       "      <td>9.680000</td>\n",
       "    </tr>\n",
       "    <tr>\n",
       "      <th>Fresno</th>\n",
       "      <th>Firebaugh-Las Deltas Unified</th>\n",
       "      <td>9.680000</td>\n",
       "    </tr>\n",
       "    <tr>\n",
       "      <th>Alameda</th>\n",
       "      <th>California School for the Deaf-Fremont (State Special Schl)</th>\n",
       "      <td>9.520000</td>\n",
       "    </tr>\n",
       "    <tr>\n",
       "      <th>Monterey</th>\n",
       "      <th>South Monterey County Joint Union High</th>\n",
       "      <td>9.430000</td>\n",
       "    </tr>\n",
       "    <tr>\n",
       "      <th>Los Angeles</th>\n",
       "      <th>SBE - Academia Avance Charter</th>\n",
       "      <td>9.090000</td>\n",
       "    </tr>\n",
       "    <tr>\n",
       "      <th>San Bernardino</th>\n",
       "      <th>San Bernardino City Unified</th>\n",
       "      <td>9.090000</td>\n",
       "    </tr>\n",
       "    <tr>\n",
       "      <th>Sacramento</th>\n",
       "      <th>Natomas Unified</th>\n",
       "      <td>9.050000</td>\n",
       "    </tr>\n",
       "    <tr>\n",
       "      <th>Santa Clara</th>\n",
       "      <th>San Jose Unified</th>\n",
       "      <td>8.770000</td>\n",
       "    </tr>\n",
       "    <tr>\n",
       "      <th>Kern</th>\n",
       "      <th>Mojave Unified</th>\n",
       "      <td>8.545000</td>\n",
       "    </tr>\n",
       "    <tr>\n",
       "      <th rowspan=\"2\" valign=\"top\">Fresno</th>\n",
       "      <th>Mendota Unified</th>\n",
       "      <td>8.540000</td>\n",
       "    </tr>\n",
       "    <tr>\n",
       "      <th>Washington Unified</th>\n",
       "      <td>8.260000</td>\n",
       "    </tr>\n",
       "    <tr>\n",
       "      <th>Los Angeles</th>\n",
       "      <th>Antelope Valley Union High</th>\n",
       "      <td>8.000000</td>\n",
       "    </tr>\n",
       "    <tr>\n",
       "      <th>Riverside</th>\n",
       "      <th>California School for the Deaf-Riverside (State Special Schl)</th>\n",
       "      <td>7.690000</td>\n",
       "    </tr>\n",
       "    <tr>\n",
       "      <th>Modoc</th>\n",
       "      <th>Tulelake Basin Joint Unified</th>\n",
       "      <td>6.670000</td>\n",
       "    </tr>\n",
       "    <tr>\n",
       "      <th>Riverside</th>\n",
       "      <th>Palm Springs Unified</th>\n",
       "      <td>6.520000</td>\n",
       "    </tr>\n",
       "    <tr>\n",
       "      <th>Fresno</th>\n",
       "      <th>Kings Canyon Joint Unified</th>\n",
       "      <td>6.060000</td>\n",
       "    </tr>\n",
       "    <tr>\n",
       "      <th>Santa Clara</th>\n",
       "      <th>East Side Union High</th>\n",
       "      <td>6.015000</td>\n",
       "    </tr>\n",
       "    <tr>\n",
       "      <th>Alameda</th>\n",
       "      <th>Oakland Unified</th>\n",
       "      <td>5.865000</td>\n",
       "    </tr>\n",
       "    <tr>\n",
       "      <th>Los Angeles</th>\n",
       "      <th>Los Angeles Unified</th>\n",
       "      <td>5.689231</td>\n",
       "    </tr>\n",
       "    <tr>\n",
       "      <th>Fresno</th>\n",
       "      <th>Fresno Unified</th>\n",
       "      <td>5.560000</td>\n",
       "    </tr>\n",
       "    <tr>\n",
       "      <th>San Francisco</th>\n",
       "      <th>San Francisco Unified</th>\n",
       "      <td>5.010000</td>\n",
       "    </tr>\n",
       "    <tr>\n",
       "      <th rowspan=\"2\" valign=\"top\">Los Angeles</th>\n",
       "      <th>Compton Unified</th>\n",
       "      <td>4.935000</td>\n",
       "    </tr>\n",
       "    <tr>\n",
       "      <th>Inglewood Unified</th>\n",
       "      <td>3.920000</td>\n",
       "    </tr>\n",
       "    <tr>\n",
       "      <th>Sacramento</th>\n",
       "      <th>Sacramento City Unified</th>\n",
       "      <td>3.570000</td>\n",
       "    </tr>\n",
       "    <tr>\n",
       "      <th>Kings</th>\n",
       "      <th>Reef-Sunset Unified</th>\n",
       "      <td>3.570000</td>\n",
       "    </tr>\n",
       "    <tr>\n",
       "      <th>San Bernardino</th>\n",
       "      <th>Fontana Unified</th>\n",
       "      <td>2.823333</td>\n",
       "    </tr>\n",
       "    <tr>\n",
       "      <th>San Diego</th>\n",
       "      <th>San Diego Unified</th>\n",
       "      <td>0.000000</td>\n",
       "    </tr>\n",
       "    <tr>\n",
       "      <th>Fresno</th>\n",
       "      <th>Golden Plains Unified</th>\n",
       "      <td>0.000000</td>\n",
       "    </tr>\n",
       "    <tr>\n",
       "      <th>Contra Costa</th>\n",
       "      <th>West Contra Costa Unified</th>\n",
       "      <td>0.000000</td>\n",
       "    </tr>\n",
       "  </tbody>\n",
       "</table>\n",
       "</div>"
      ],
      "text/plain": [
       "                                                                   pct_test_takers_21\n",
       "county_name    district_name                                                         \n",
       "San Mateo      Ravenswood City Elementary                                    9.680000\n",
       "Fresno         Firebaugh-Las Deltas Unified                                  9.680000\n",
       "Alameda        California School for the Deaf-Fremont (State S...            9.520000\n",
       "Monterey       South Monterey County Joint Union High                        9.430000\n",
       "Los Angeles    SBE - Academia Avance Charter                                 9.090000\n",
       "San Bernardino San Bernardino City Unified                                   9.090000\n",
       "Sacramento     Natomas Unified                                               9.050000\n",
       "Santa Clara    San Jose Unified                                              8.770000\n",
       "Kern           Mojave Unified                                                8.545000\n",
       "Fresno         Mendota Unified                                               8.540000\n",
       "               Washington Unified                                            8.260000\n",
       "Los Angeles    Antelope Valley Union High                                    8.000000\n",
       "Riverside      California School for the Deaf-Riverside (State...            7.690000\n",
       "Modoc          Tulelake Basin Joint Unified                                  6.670000\n",
       "Riverside      Palm Springs Unified                                          6.520000\n",
       "Fresno         Kings Canyon Joint Unified                                    6.060000\n",
       "Santa Clara    East Side Union High                                          6.015000\n",
       "Alameda        Oakland Unified                                               5.865000\n",
       "Los Angeles    Los Angeles Unified                                           5.689231\n",
       "Fresno         Fresno Unified                                                5.560000\n",
       "San Francisco  San Francisco Unified                                         5.010000\n",
       "Los Angeles    Compton Unified                                               4.935000\n",
       "               Inglewood Unified                                             3.920000\n",
       "Sacramento     Sacramento City Unified                                       3.570000\n",
       "Kings          Reef-Sunset Unified                                           3.570000\n",
       "San Bernardino Fontana Unified                                               2.823333\n",
       "San Diego      San Diego Unified                                             0.000000\n",
       "Fresno         Golden Plains Unified                                         0.000000\n",
       "Contra Costa   West Contra Costa Unified                                     0.000000"
      ]
     },
     "execution_count": 9,
     "metadata": {},
     "output_type": "execute_result"
    }
   ],
   "source": [
    "# Identifying districts and counties with an average < 10% meeting the 21 benchmark\n",
    "\n",
    "act_21_below_10_perc_dist = act_21_below_10_perc.groupby(['county_name','district_name'])[['pct_test_takers_21']].mean().sort_values(by='pct_test_takers_21',ascending=True)\n",
    "print(act_21_below_10_perc_dist.value_counts('county_name'))\n",
    "act_21_below_10_perc_dist.head(29).sort_values(by='pct_test_takers_21', ascending=False)"
   ]
  },
  {
   "cell_type": "markdown",
   "metadata": {},
   "source": [
    "There are 29 districts that are associated with worst-performing schools. Because these are too many to work with, I'm zooming out to the county level. \n",
    "\n",
    "The counties most associated with worst-performing schools are Fresno and Los Angeles. Fresno contains 6 districts and Los Angeles contains 5. The rest of the counties are only associated with 1 or 2 districts."
   ]
  },
  {
   "cell_type": "markdown",
   "metadata": {},
   "source": [
    "### 2.2. Subjects"
   ]
  },
  {
   "cell_type": "code",
   "execution_count": 10,
   "metadata": {},
   "outputs": [
    {
     "name": "stdout",
     "output_type": "stream",
     "text": [
      "Overall Schools Average\n",
      "avg_reading    22.0\n",
      "avg_english    21.0\n",
      "avg_math       21.0\n",
      "avg_science    21.0\n",
      "dtype: float64\n",
      "\n",
      "Worst-Performing Schools Average\n",
      "avg_reading    16.0\n",
      "avg_english    14.0\n",
      "avg_math       16.0\n",
      "avg_science    16.0\n",
      "dtype: float64\n"
     ]
    }
   ],
   "source": [
    "# Calculating the average scores for each of the subjects\n",
    "\n",
    "act_sub_avg = act[['avg_reading','avg_english','avg_math','avg_science']].mean().round(0)\n",
    "act_21_below_10_perc_sub_avg = act_21_below_10_perc[['avg_reading','avg_english','avg_math','avg_science']].mean().round(0)\n",
    "\n",
    "print('Overall Schools Average')\n",
    "print(act_sub_avg)\n",
    "print('')\n",
    "print('Worst-Performing Schools Average')\n",
    "print(act_21_below_10_perc_sub_avg)"
   ]
  },
  {
   "cell_type": "code",
   "execution_count": 11,
   "metadata": {},
   "outputs": [
    {
     "data": {
      "image/png": "[encoded data removed]",
      "text/plain": [
       "<Figure size 432x288 with 1 Axes>"
      ]
     },
     "metadata": {
      "needs_background": "light"
     },
     "output_type": "display_data"
    }
   ],
   "source": [
    "# Average Score by Subject (ACT): Overall vs. Worst-Performing Schools\n",
    "\n",
    "# Plotting a barchart\n",
    "plt.bar(np.arange(4) -0.2, act_sub_avg, width=0.4, label = 'Overall')\n",
    "plt.bar(np.arange(4) +0.2, act_21_below_10_perc_sub_avg, width=0.4, label = 'Worst-Performing')\n",
    "\n",
    "# Defining a function that will be used to include bar labels in a barchart\n",
    "def add_labels_bar(x,y,ha='center'):\n",
    "    for i in range(len(x)):\n",
    "        plt.text(i, y[i]//2, y[i], ha = ha)\n",
    "\n",
    "if __name__ == '__main__':\n",
    "    x = ['Reading','English','Math','Science']\n",
    "    y1 = [22,21,21,21]\n",
    "    y2 = [16,14,16,16]\n",
    "\n",
    "add_labels_bar(x,y1,ha='right')\n",
    "add_labels_bar(x,y2,ha='left')\n",
    "\n",
    "plt.title('Average Score by Subject (ACT): \\n Overall vs. Worst-Performing Schools', fontsize=14)\n",
    "plt.xlabel('Subject')\n",
    "plt.ylabel('ACT Score')\n",
    "plt.xticks(ticks=[0,1,2,3], labels=['Reading', 'English', 'Math', 'Science'], rotation=0)\n",
    "plt.legend();"
   ]
  },
  {
   "cell_type": "markdown",
   "metadata": {},
   "source": [
    "The overall average scores all meet or exceed the established benchmark score of 21. The worst-performing schools' average scores fall 5-7 points below the benchmark score of 21."
   ]
  },
  {
   "cell_type": "code",
   "execution_count": 12,
   "metadata": {},
   "outputs": [
    {
     "data": {
      "image/png": "[encoded data removed]",
      "text/plain": [
       "<Figure size 432x288 with 1 Axes>"
      ]
     },
     "metadata": {
      "needs_background": "light"
     },
     "output_type": "display_data"
    }
   ],
   "source": [
    "# Average Score by Subject (ACT): Overall Schools\n",
    "\n",
    "sns.boxplot(data=act[['avg_reading','avg_english','avg_math','avg_science']])\n",
    "\n",
    "plt.title('Average Score by Subject (ACT): \\n Overall Schools', fontsize=14)\n",
    "plt.xlabel('Subject')\n",
    "plt.xticks(ticks=[0,1,2,3], labels=['Reading', 'English', 'Math', 'Science'], rotation=0)\n",
    "plt.ylabel('ACT Score');"
   ]
  },
  {
   "cell_type": "markdown",
   "metadata": {},
   "source": [
    "The box plot above shows the center and spread of the overall average scores. The center for Reading is 22, and the centers for English, Math and Science are 21. All have large spreads that roughly span from 19 to 25, with whiskers extending as low as 10 and as high as 32. There is only one outlier school. It's for math and it lies beyond the maximum."
   ]
  },
  {
   "cell_type": "code",
   "execution_count": 13,
   "metadata": {},
   "outputs": [
    {
     "data": {
      "image/png": "[encoded data removed]",
      "text/plain": [
       "<Figure size 432x288 with 1 Axes>"
      ]
     },
     "metadata": {
      "needs_background": "light"
     },
     "output_type": "display_data"
    }
   ],
   "source": [
    "# Average Score by Subject (ACT): Worst-Performing Schools\n",
    "\n",
    "sns.boxplot(data=act_21_below_10_perc[['avg_reading','avg_english','avg_math','avg_science']])\n",
    "\n",
    "plt.title('Average Score by Subject (ACT): \\n Worst-Performing Schools', fontsize=14)\n",
    "plt.xlabel('Subject')\n",
    "plt.xticks(ticks=[0,1,2,3], labels=['Reading', 'English', 'Math', 'Science'], rotation=0)\n",
    "plt.ylabel('ACT Score');"
   ]
  },
  {
   "cell_type": "markdown",
   "metadata": {},
   "source": [
    "This box plot shows the center and spread of the worst-performing school average scores. Reading and Science don't have a center, but span between 15-16, and the whiskers extend as low as 14 and as high as 17. English falls little lower on the scale spanning between 14-15 with whiskers extending as low as 13 and as high as 16. Math does not have a spread, but has its center at 16. All subjects have a few outliers that lie beyond the minimum and maximums."
   ]
  },
  {
   "cell_type": "markdown",
   "metadata": {},
   "source": [
    "### 2.3. ACT Summary\n",
    "\n",
    "The counties most associated with worst-performing schools are Fresno and Los Angeles.\n",
    "\n",
    "As for subjects, there doesn't seem to be one subject that is giving participants a more difficult time than the rest. All subjects will require the same focus when it comes to re-allocating resources.\n",
    "\n",
    "---"
   ]
  },
  {
   "cell_type": "markdown",
   "metadata": {},
   "source": [
    "## 3. SAT"
   ]
  },
  {
   "cell_type": "code",
   "execution_count": 14,
   "metadata": {},
   "outputs": [],
   "source": [
    "sat = pd.read_csv('../data/clean_sat_2019_ca.csv')"
   ]
  },
  {
   "cell_type": "code",
   "execution_count": 15,
   "metadata": {},
   "outputs": [
    {
     "data": {
      "text/html": [
       "<div>\n",
       "<style scoped>\n",
       "    .dataframe tbody tr th:only-of-type {\n",
       "        vertical-align: middle;\n",
       "    }\n",
       "\n",
       "    .dataframe tbody tr th {\n",
       "        vertical-align: top;\n",
       "    }\n",
       "\n",
       "    .dataframe thead th {\n",
       "        text-align: right;\n",
       "    }\n",
       "</style>\n",
       "<table border=\"1\" class=\"dataframe\">\n",
       "  <thead>\n",
       "    <tr style=\"text-align: right;\">\n",
       "      <th></th>\n",
       "      <th>school_name</th>\n",
       "      <th>district_name</th>\n",
       "      <th>county_name</th>\n",
       "      <th>grade_12_enrollment</th>\n",
       "      <th>total_num_test_takers</th>\n",
       "      <th>num_erw_benchmark</th>\n",
       "      <th>pct_erw_benchmark</th>\n",
       "      <th>num_math_benchmark</th>\n",
       "      <th>pct_math_benchmark</th>\n",
       "      <th>num_test_takers_benchmark</th>\n",
       "      <th>perc_participation</th>\n",
       "      <th>pct_test_takers_benchmark</th>\n",
       "      <th>year</th>\n",
       "    </tr>\n",
       "  </thead>\n",
       "  <tbody>\n",
       "    <tr>\n",
       "      <th>0</th>\n",
       "      <td>Belmont Senior High</td>\n",
       "      <td>Los Angeles Unified</td>\n",
       "      <td>Los Angeles</td>\n",
       "      <td>206.0</td>\n",
       "      <td>102.0</td>\n",
       "      <td>31.0</td>\n",
       "      <td>30.39</td>\n",
       "      <td>14.0</td>\n",
       "      <td>13.73</td>\n",
       "      <td>14.0</td>\n",
       "      <td>49.514563</td>\n",
       "      <td>13.73</td>\n",
       "      <td>2018-19</td>\n",
       "    </tr>\n",
       "    <tr>\n",
       "      <th>1</th>\n",
       "      <td>Canoga Park Senior High</td>\n",
       "      <td>Los Angeles Unified</td>\n",
       "      <td>Los Angeles</td>\n",
       "      <td>227.0</td>\n",
       "      <td>113.0</td>\n",
       "      <td>54.0</td>\n",
       "      <td>47.79</td>\n",
       "      <td>18.0</td>\n",
       "      <td>15.93</td>\n",
       "      <td>18.0</td>\n",
       "      <td>49.779736</td>\n",
       "      <td>15.93</td>\n",
       "      <td>2018-19</td>\n",
       "    </tr>\n",
       "    <tr>\n",
       "      <th>2</th>\n",
       "      <td>Foshay Learning Center</td>\n",
       "      <td>Los Angeles Unified</td>\n",
       "      <td>Los Angeles</td>\n",
       "      <td>166.0</td>\n",
       "      <td>106.0</td>\n",
       "      <td>68.0</td>\n",
       "      <td>64.15</td>\n",
       "      <td>36.0</td>\n",
       "      <td>33.96</td>\n",
       "      <td>36.0</td>\n",
       "      <td>63.855422</td>\n",
       "      <td>33.96</td>\n",
       "      <td>2018-19</td>\n",
       "    </tr>\n",
       "    <tr>\n",
       "      <th>3</th>\n",
       "      <td>Mission Viejo High</td>\n",
       "      <td>Saddleback Valley Unified</td>\n",
       "      <td>Orange</td>\n",
       "      <td>562.0</td>\n",
       "      <td>190.0</td>\n",
       "      <td>161.0</td>\n",
       "      <td>84.74</td>\n",
       "      <td>138.0</td>\n",
       "      <td>72.63</td>\n",
       "      <td>132.0</td>\n",
       "      <td>33.807829</td>\n",
       "      <td>69.47</td>\n",
       "      <td>2018-19</td>\n",
       "    </tr>\n",
       "    <tr>\n",
       "      <th>4</th>\n",
       "      <td>Abraham Lincoln Continuation</td>\n",
       "      <td>Riverside Unified</td>\n",
       "      <td>Riverside</td>\n",
       "      <td>114.0</td>\n",
       "      <td>17.0</td>\n",
       "      <td>3.0</td>\n",
       "      <td>17.65</td>\n",
       "      <td>2.0</td>\n",
       "      <td>11.76</td>\n",
       "      <td>2.0</td>\n",
       "      <td>14.912281</td>\n",
       "      <td>11.76</td>\n",
       "      <td>2018-19</td>\n",
       "    </tr>\n",
       "    <tr>\n",
       "      <th>...</th>\n",
       "      <td>...</td>\n",
       "      <td>...</td>\n",
       "      <td>...</td>\n",
       "      <td>...</td>\n",
       "      <td>...</td>\n",
       "      <td>...</td>\n",
       "      <td>...</td>\n",
       "      <td>...</td>\n",
       "      <td>...</td>\n",
       "      <td>...</td>\n",
       "      <td>...</td>\n",
       "      <td>...</td>\n",
       "      <td>...</td>\n",
       "    </tr>\n",
       "    <tr>\n",
       "      <th>1662</th>\n",
       "      <td>NaN</td>\n",
       "      <td>San Joaquin County Office of Education</td>\n",
       "      <td>San Joaquin</td>\n",
       "      <td>823.0</td>\n",
       "      <td>78.0</td>\n",
       "      <td>48.0</td>\n",
       "      <td>61.54</td>\n",
       "      <td>19.0</td>\n",
       "      <td>24.36</td>\n",
       "      <td>19.0</td>\n",
       "      <td>9.477521</td>\n",
       "      <td>24.36</td>\n",
       "      <td>2018-19</td>\n",
       "    </tr>\n",
       "    <tr>\n",
       "      <th>1663</th>\n",
       "      <td>NaN</td>\n",
       "      <td>Pajaro Valley Unified</td>\n",
       "      <td>Santa Cruz</td>\n",
       "      <td>1315.0</td>\n",
       "      <td>372.0</td>\n",
       "      <td>230.0</td>\n",
       "      <td>61.83</td>\n",
       "      <td>142.0</td>\n",
       "      <td>38.17</td>\n",
       "      <td>133.0</td>\n",
       "      <td>28.288973</td>\n",
       "      <td>35.75</td>\n",
       "      <td>2018-19</td>\n",
       "    </tr>\n",
       "    <tr>\n",
       "      <th>1664</th>\n",
       "      <td>NaN</td>\n",
       "      <td>Scotts Valley Unified</td>\n",
       "      <td>Santa Cruz</td>\n",
       "      <td>194.0</td>\n",
       "      <td>90.0</td>\n",
       "      <td>84.0</td>\n",
       "      <td>93.33</td>\n",
       "      <td>73.0</td>\n",
       "      <td>81.11</td>\n",
       "      <td>73.0</td>\n",
       "      <td>46.391753</td>\n",
       "      <td>81.11</td>\n",
       "      <td>2018-19</td>\n",
       "    </tr>\n",
       "    <tr>\n",
       "      <th>1665</th>\n",
       "      <td>NaN</td>\n",
       "      <td>Riverbank Unified</td>\n",
       "      <td>Stanislaus</td>\n",
       "      <td>179.0</td>\n",
       "      <td>40.0</td>\n",
       "      <td>23.0</td>\n",
       "      <td>57.50</td>\n",
       "      <td>13.0</td>\n",
       "      <td>32.50</td>\n",
       "      <td>11.0</td>\n",
       "      <td>22.346369</td>\n",
       "      <td>27.50</td>\n",
       "      <td>2018-19</td>\n",
       "    </tr>\n",
       "    <tr>\n",
       "      <th>1666</th>\n",
       "      <td>NaN</td>\n",
       "      <td>Davis Joint Unified</td>\n",
       "      <td>Yolo</td>\n",
       "      <td>717.0</td>\n",
       "      <td>307.0</td>\n",
       "      <td>293.0</td>\n",
       "      <td>95.44</td>\n",
       "      <td>274.0</td>\n",
       "      <td>89.25</td>\n",
       "      <td>268.0</td>\n",
       "      <td>42.817294</td>\n",
       "      <td>87.30</td>\n",
       "      <td>2018-19</td>\n",
       "    </tr>\n",
       "  </tbody>\n",
       "</table>\n",
       "<p>1667 rows × 13 columns</p>\n",
       "</div>"
      ],
      "text/plain": [
       "                       school_name                           district_name  \\\n",
       "0              Belmont Senior High                     Los Angeles Unified   \n",
       "1          Canoga Park Senior High                     Los Angeles Unified   \n",
       "2           Foshay Learning Center                     Los Angeles Unified   \n",
       "3               Mission Viejo High               Saddleback Valley Unified   \n",
       "4     Abraham Lincoln Continuation                       Riverside Unified   \n",
       "...                            ...                                     ...   \n",
       "1662                           NaN  San Joaquin County Office of Education   \n",
       "1663                           NaN                   Pajaro Valley Unified   \n",
       "1664                           NaN                   Scotts Valley Unified   \n",
       "1665                           NaN                       Riverbank Unified   \n",
       "1666                           NaN                     Davis Joint Unified   \n",
       "\n",
       "      county_name  grade_12_enrollment  total_num_test_takers  \\\n",
       "0     Los Angeles                206.0                  102.0   \n",
       "1     Los Angeles                227.0                  113.0   \n",
       "2     Los Angeles                166.0                  106.0   \n",
       "3          Orange                562.0                  190.0   \n",
       "4       Riverside                114.0                   17.0   \n",
       "...           ...                  ...                    ...   \n",
       "1662  San Joaquin                823.0                   78.0   \n",
       "1663   Santa Cruz               1315.0                  372.0   \n",
       "1664   Santa Cruz                194.0                   90.0   \n",
       "1665   Stanislaus                179.0                   40.0   \n",
       "1666         Yolo                717.0                  307.0   \n",
       "\n",
       "      num_erw_benchmark  pct_erw_benchmark  num_math_benchmark  \\\n",
       "0                  31.0              30.39                14.0   \n",
       "1                  54.0              47.79                18.0   \n",
       "2                  68.0              64.15                36.0   \n",
       "3                 161.0              84.74               138.0   \n",
       "4                   3.0              17.65                 2.0   \n",
       "...                 ...                ...                 ...   \n",
       "1662               48.0              61.54                19.0   \n",
       "1663              230.0              61.83               142.0   \n",
       "1664               84.0              93.33                73.0   \n",
       "1665               23.0              57.50                13.0   \n",
       "1666              293.0              95.44               274.0   \n",
       "\n",
       "      pct_math_benchmark  num_test_takers_benchmark  perc_participation  \\\n",
       "0                  13.73                       14.0           49.514563   \n",
       "1                  15.93                       18.0           49.779736   \n",
       "2                  33.96                       36.0           63.855422   \n",
       "3                  72.63                      132.0           33.807829   \n",
       "4                  11.76                        2.0           14.912281   \n",
       "...                  ...                        ...                 ...   \n",
       "1662               24.36                       19.0            9.477521   \n",
       "1663               38.17                      133.0           28.288973   \n",
       "1664               81.11                       73.0           46.391753   \n",
       "1665               32.50                       11.0           22.346369   \n",
       "1666               89.25                      268.0           42.817294   \n",
       "\n",
       "      pct_test_takers_benchmark     year  \n",
       "0                         13.73  2018-19  \n",
       "1                         15.93  2018-19  \n",
       "2                         33.96  2018-19  \n",
       "3                         69.47  2018-19  \n",
       "4                         11.76  2018-19  \n",
       "...                         ...      ...  \n",
       "1662                      24.36  2018-19  \n",
       "1663                      35.75  2018-19  \n",
       "1664                      81.11  2018-19  \n",
       "1665                      27.50  2018-19  \n",
       "1666                      87.30  2018-19  \n",
       "\n",
       "[1667 rows x 13 columns]"
      ]
     },
     "execution_count": 15,
     "metadata": {},
     "output_type": "execute_result"
    }
   ],
   "source": [
    "sat"
   ]
  },
  {
   "cell_type": "markdown",
   "metadata": {},
   "source": [
    "### 3.1. Schools, districts and counties"
   ]
  },
  {
   "cell_type": "code",
   "execution_count": 16,
   "metadata": {},
   "outputs": [
    {
     "name": "stdout",
     "output_type": "stream",
     "text": [
      "TOTAL COUNTS\n",
      "schools: 1667\n",
      "districts: 406\n",
      "counties: 55\n"
     ]
    }
   ],
   "source": [
    "# Original school, district and county totals\n",
    "\n",
    "print('TOTAL COUNTS')\n",
    "\n",
    "print('schools: ' + str(sat.shape[0]))\n",
    "print('districts: ' + str(sat[\"district_name\"].nunique()))\n",
    "print('counties: ' + str(sat[\"county_name\"].nunique()))"
   ]
  },
  {
   "cell_type": "code",
   "execution_count": 17,
   "metadata": {},
   "outputs": [
    {
     "data": {
      "image/png": "[encoded data removed]",
      "text/plain": [
       "<Figure size 432x288 with 1 Axes>"
      ]
     },
     "metadata": {
      "needs_background": "light"
     },
     "output_type": "display_data"
    }
   ],
   "source": [
    "# Distribution of schools based on their % of benchmark participants (SAT)\n",
    "\n",
    "sat['pct_test_takers_benchmark'].hist(rwidth=0.96)\n",
    "\n",
    "plt.title('Distribution of schools based on \\n their % of benchmark participants (SAT)', fontsize=14)\n",
    "plt.xlabel('Benchmark Participant %')\n",
    "plt.ylabel('Schools')\n",
    "plt.grid(False);"
   ]
  },
  {
   "cell_type": "markdown",
   "metadata": {},
   "source": [
    "As done with the ACT, here is the distribution of schools based on their percent of participants who met or exceeded the benchmark score. The distribution is between a normal and slightly right skewed one. The bins slowly increase until the peak at the 30-40% range with just over 250 schools, and then they begin decreasing until they reach 100%."
   ]
  },
  {
   "cell_type": "code",
   "execution_count": 18,
   "metadata": {},
   "outputs": [
    {
     "data": {
      "image/png": "[encoded data removed]",
      "text/plain": [
       "<Figure size 432x288 with 1 Axes>"
      ]
     },
     "metadata": {
      "needs_background": "light"
     },
     "output_type": "display_data"
    }
   ],
   "source": [
    "# Distribution of districts based on their average % of benchmark participants (SAT)\n",
    "\n",
    "sat_by_dist = sat.groupby('district_name')[['pct_test_takers_benchmark']].mean()\n",
    "\n",
    "sat_by_dist.hist(rwidth=0.96)\n",
    "\n",
    "plt.title('Distribution of districts based on their \\n average % of benchmark participants (SAT)', fontsize=14)\n",
    "plt.xlabel('Benchmark Participant %')\n",
    "plt.xticks(range(0,101,20))\n",
    "plt.ylabel('Districts')\n",
    "plt.grid(False);"
   ]
  },
  {
   "cell_type": "markdown",
   "metadata": {},
   "source": [
    "At the district level, the distribution becomes a little more normal, but the peak remains to be around the 30-40% range. The lowest point is the 0-10% range with under 10 districts."
   ]
  },
  {
   "cell_type": "code",
   "execution_count": 19,
   "metadata": {},
   "outputs": [
    {
     "name": "stdout",
     "output_type": "stream",
     "text": [
      "COUNTS WHERE < 10% of TAKERS MET THE BENCHMARK SCORE FOR BOTH ERW & MATH\n",
      "schools: 110\n",
      "districts: 38\n",
      "counties: 17\n",
      "\n",
      "PERCENT WHERE < 10% of TAKERS MET THE BENCHMARK SCORE FOR BOTH ERW & MATH\n",
      "schools: 6.6%\n",
      "districts: 9.36%\n",
      "counties: 30.91%\n"
     ]
    }
   ],
   "source": [
    "# Subsetted DataFrame to schools where < 10% of participants met the benchmark scores for both ERW & MATH\n",
    "\n",
    "sat_benchmark_below_10_perc = sat[sat['pct_test_takers_benchmark'] < 10]\n",
    "\n",
    "print('COUNTS WHERE < 10% of TAKERS MET THE BENCHMARK SCORE FOR BOTH ERW & MATH')\n",
    "print('schools: ' + str(sat_benchmark_below_10_perc.shape[0]))\n",
    "print('districts: ' + str(sat_benchmark_below_10_perc[\"district_name\"].nunique()))\n",
    "print('counties: ' + str(sat_benchmark_below_10_perc[\"county_name\"].nunique()))\n",
    "print('')\n",
    "print('PERCENT WHERE < 10% of TAKERS MET THE BENCHMARK SCORE FOR BOTH ERW & MATH')\n",
    "print('schools: ' + str(round(sat_benchmark_below_10_perc.shape[0] / sat.shape[0] * 100, 2)) + '%')\n",
    "print('districts: ' + str(round(sat_benchmark_below_10_perc[\"district_name\"].nunique() / sat[\"district_name\"].nunique() * 100, 2)) + '%')\n",
    "print('counties: ' + str(round(sat_benchmark_below_10_perc[\"county_name\"].nunique() / sat[\"county_name\"].nunique() * 100, 2)) + '%')"
   ]
  },
  {
   "cell_type": "markdown",
   "metadata": {},
   "source": [
    "Here, I've calculated the counts of schools, districts and counties where less than 10% of participants met both the Math and ERW benchmark scores. I've also calculated the percentages of those schools, districts and counties relative to their respective totals.\n",
    "\n",
    "As a result, 6% of schools fall in the 0-10% range, while 9% of districts and 31% of counties are associated with schools that fall in the 0-10% range."
   ]
  },
  {
   "cell_type": "code",
   "execution_count": 20,
   "metadata": {},
   "outputs": [
    {
     "data": {
      "image/png": "[encoded data removed]",
      "text/plain": [
       "<Figure size 432x288 with 1 Axes>"
      ]
     },
     "metadata": {
      "needs_background": "light"
     },
     "output_type": "display_data"
    }
   ],
   "source": [
    "# Benchmark Participant % vs. Participation % (SAT)\n",
    "\n",
    "plt.scatter(sat['pct_test_takers_benchmark'],\n",
    "            sat['perc_participation']);\n",
    "\n",
    "plt.title('Benchmark Participant % vs. Participation % (SAT)', fontsize = 14)\n",
    "plt.xlabel('Benchmark Participant %')\n",
    "plt.ylabel('Participation %');"
   ]
  },
  {
   "cell_type": "markdown",
   "metadata": {},
   "source": [
    "At the school level, as with the ACT, there are no signs of correlation between the percent of enrolled students who participated and the percent of participants who met or exceeded both the Math and ERW benchmark scores."
   ]
  },
  {
   "cell_type": "code",
   "execution_count": 21,
   "metadata": {},
   "outputs": [
    {
     "name": "stdout",
     "output_type": "stream",
     "text": [
      "county_name\n",
      "Los Angeles       10\n",
      "Riverside          4\n",
      "Fresno             4\n",
      "San Bernardino     3\n",
      "Alameda            2\n",
      "Santa Clara        2\n",
      "San Diego          2\n",
      "Orange             2\n",
      "Colusa             1\n",
      "Monterey           1\n",
      "Sacramento         1\n",
      "Kern               1\n",
      "Inyo               1\n",
      "San Francisco      1\n",
      "Contra Costa       1\n",
      "Sonoma             1\n",
      "Ventura            1\n",
      "dtype: int64\n"
     ]
    },
    {
     "data": {
      "text/html": [
       "<div>\n",
       "<style scoped>\n",
       "    .dataframe tbody tr th:only-of-type {\n",
       "        vertical-align: middle;\n",
       "    }\n",
       "\n",
       "    .dataframe tbody tr th {\n",
       "        vertical-align: top;\n",
       "    }\n",
       "\n",
       "    .dataframe thead th {\n",
       "        text-align: right;\n",
       "    }\n",
       "</style>\n",
       "<table border=\"1\" class=\"dataframe\">\n",
       "  <thead>\n",
       "    <tr style=\"text-align: right;\">\n",
       "      <th></th>\n",
       "      <th></th>\n",
       "      <th>pct_test_takers_benchmark</th>\n",
       "    </tr>\n",
       "    <tr>\n",
       "      <th>county_name</th>\n",
       "      <th>district_name</th>\n",
       "      <th></th>\n",
       "    </tr>\n",
       "  </thead>\n",
       "  <tbody>\n",
       "    <tr>\n",
       "      <th>Fresno</th>\n",
       "      <th>Washington Unified</th>\n",
       "      <td>9.760000</td>\n",
       "    </tr>\n",
       "    <tr>\n",
       "      <th>Los Angeles</th>\n",
       "      <th>Antelope Valley Union High</th>\n",
       "      <td>9.685000</td>\n",
       "    </tr>\n",
       "    <tr>\n",
       "      <th>Riverside</th>\n",
       "      <th>Val Verde Unified</th>\n",
       "      <td>9.610000</td>\n",
       "    </tr>\n",
       "    <tr>\n",
       "      <th>Sonoma</th>\n",
       "      <th>Cloverdale Unified</th>\n",
       "      <td>9.520000</td>\n",
       "    </tr>\n",
       "    <tr>\n",
       "      <th>Riverside</th>\n",
       "      <th>Hemet Unified</th>\n",
       "      <td>9.520000</td>\n",
       "    </tr>\n",
       "    <tr>\n",
       "      <th>Los Angeles</th>\n",
       "      <th>Long Beach Unified</th>\n",
       "      <td>9.500000</td>\n",
       "    </tr>\n",
       "    <tr>\n",
       "      <th>Kern</th>\n",
       "      <th>McFarland Unified</th>\n",
       "      <td>9.090000</td>\n",
       "    </tr>\n",
       "    <tr>\n",
       "      <th>Los Angeles</th>\n",
       "      <th>Acton-Agua Dulce Unified</th>\n",
       "      <td>7.890000</td>\n",
       "    </tr>\n",
       "    <tr>\n",
       "      <th>Monterey</th>\n",
       "      <th>South Monterey County Joint Union High</th>\n",
       "      <td>7.550000</td>\n",
       "    </tr>\n",
       "    <tr>\n",
       "      <th>Fresno</th>\n",
       "      <th>Fresno Unified</th>\n",
       "      <td>7.380000</td>\n",
       "    </tr>\n",
       "    <tr>\n",
       "      <th>Los Angeles</th>\n",
       "      <th>Compton Unified</th>\n",
       "      <td>7.060000</td>\n",
       "    </tr>\n",
       "    <tr>\n",
       "      <th>Alameda</th>\n",
       "      <th>Oakland Unified</th>\n",
       "      <td>6.652500</td>\n",
       "    </tr>\n",
       "    <tr>\n",
       "      <th rowspan=\"2\" valign=\"top\">Los Angeles</th>\n",
       "      <th>Los Angeles Unified</th>\n",
       "      <td>6.448444</td>\n",
       "    </tr>\n",
       "    <tr>\n",
       "      <th>Inglewood Unified</th>\n",
       "      <td>6.210000</td>\n",
       "    </tr>\n",
       "    <tr>\n",
       "      <th>Santa Clara</th>\n",
       "      <th>East Side Union High</th>\n",
       "      <td>5.996667</td>\n",
       "    </tr>\n",
       "    <tr>\n",
       "      <th>Fresno</th>\n",
       "      <th>Firebaugh-Las Deltas Unified</th>\n",
       "      <td>5.950000</td>\n",
       "    </tr>\n",
       "    <tr>\n",
       "      <th>San Francisco</th>\n",
       "      <th>San Francisco Unified</th>\n",
       "      <td>5.570000</td>\n",
       "    </tr>\n",
       "    <tr>\n",
       "      <th>Santa Clara</th>\n",
       "      <th>San Jose Unified</th>\n",
       "      <td>5.360000</td>\n",
       "    </tr>\n",
       "    <tr>\n",
       "      <th rowspan=\"2\" valign=\"top\">San Bernardino</th>\n",
       "      <th>Redlands Unified</th>\n",
       "      <td>4.550000</td>\n",
       "    </tr>\n",
       "    <tr>\n",
       "      <th>Victor Valley Union High</th>\n",
       "      <td>4.000000</td>\n",
       "    </tr>\n",
       "    <tr>\n",
       "      <th>Orange</th>\n",
       "      <th>Santa Ana Unified</th>\n",
       "      <td>3.886667</td>\n",
       "    </tr>\n",
       "    <tr>\n",
       "      <th>Los Angeles</th>\n",
       "      <th>Los Angeles County Office of Education</th>\n",
       "      <td>3.130000</td>\n",
       "    </tr>\n",
       "    <tr>\n",
       "      <th>Sacramento</th>\n",
       "      <th>Twin Rivers Unified</th>\n",
       "      <td>3.095000</td>\n",
       "    </tr>\n",
       "    <tr>\n",
       "      <th>San Diego</th>\n",
       "      <th>San Diego Unified</th>\n",
       "      <td>2.780000</td>\n",
       "    </tr>\n",
       "    <tr>\n",
       "      <th>Ventura</th>\n",
       "      <th>Oxnard Union High</th>\n",
       "      <td>2.255000</td>\n",
       "    </tr>\n",
       "    <tr>\n",
       "      <th>Riverside</th>\n",
       "      <th>Riverside County Office of Education</th>\n",
       "      <td>2.000000</td>\n",
       "    </tr>\n",
       "    <tr>\n",
       "      <th>Contra Costa</th>\n",
       "      <th>West Contra Costa Unified</th>\n",
       "      <td>1.450000</td>\n",
       "    </tr>\n",
       "    <tr>\n",
       "      <th>Los Angeles</th>\n",
       "      <th>Norwalk-La Mirada Unified</th>\n",
       "      <td>1.160000</td>\n",
       "    </tr>\n",
       "    <tr>\n",
       "      <th>Orange</th>\n",
       "      <th>Orange Unified</th>\n",
       "      <td>0.000000</td>\n",
       "    </tr>\n",
       "    <tr>\n",
       "      <th>Colusa</th>\n",
       "      <th>Williams Unified</th>\n",
       "      <td>0.000000</td>\n",
       "    </tr>\n",
       "    <tr>\n",
       "      <th>San Bernardino</th>\n",
       "      <th>Chino Valley Unified</th>\n",
       "      <td>0.000000</td>\n",
       "    </tr>\n",
       "    <tr>\n",
       "      <th>Riverside</th>\n",
       "      <th>Moreno Valley Unified</th>\n",
       "      <td>0.000000</td>\n",
       "    </tr>\n",
       "    <tr>\n",
       "      <th>San Diego</th>\n",
       "      <th>San Diego County Office of Education</th>\n",
       "      <td>0.000000</td>\n",
       "    </tr>\n",
       "    <tr>\n",
       "      <th>Fresno</th>\n",
       "      <th>Golden Plains Unified</th>\n",
       "      <td>0.000000</td>\n",
       "    </tr>\n",
       "    <tr>\n",
       "      <th>Los Angeles</th>\n",
       "      <th>Paramount Unified</th>\n",
       "      <td>0.000000</td>\n",
       "    </tr>\n",
       "    <tr>\n",
       "      <th>Inyo</th>\n",
       "      <th>Inyo County Office of Education</th>\n",
       "      <td>0.000000</td>\n",
       "    </tr>\n",
       "    <tr>\n",
       "      <th>Los Angeles</th>\n",
       "      <th>Covina-Valley Unified</th>\n",
       "      <td>0.000000</td>\n",
       "    </tr>\n",
       "    <tr>\n",
       "      <th>Alameda</th>\n",
       "      <th>Alameda Unified</th>\n",
       "      <td>0.000000</td>\n",
       "    </tr>\n",
       "  </tbody>\n",
       "</table>\n",
       "</div>"
      ],
      "text/plain": [
       "                                                       pct_test_takers_benchmark\n",
       "county_name    district_name                                                    \n",
       "Fresno         Washington Unified                                       9.760000\n",
       "Los Angeles    Antelope Valley Union High                               9.685000\n",
       "Riverside      Val Verde Unified                                        9.610000\n",
       "Sonoma         Cloverdale Unified                                       9.520000\n",
       "Riverside      Hemet Unified                                            9.520000\n",
       "Los Angeles    Long Beach Unified                                       9.500000\n",
       "Kern           McFarland Unified                                        9.090000\n",
       "Los Angeles    Acton-Agua Dulce Unified                                 7.890000\n",
       "Monterey       South Monterey County Joint Union High                   7.550000\n",
       "Fresno         Fresno Unified                                           7.380000\n",
       "Los Angeles    Compton Unified                                          7.060000\n",
       "Alameda        Oakland Unified                                          6.652500\n",
       "Los Angeles    Los Angeles Unified                                      6.448444\n",
       "               Inglewood Unified                                        6.210000\n",
       "Santa Clara    East Side Union High                                     5.996667\n",
       "Fresno         Firebaugh-Las Deltas Unified                             5.950000\n",
       "San Francisco  San Francisco Unified                                    5.570000\n",
       "Santa Clara    San Jose Unified                                         5.360000\n",
       "San Bernardino Redlands Unified                                         4.550000\n",
       "               Victor Valley Union High                                 4.000000\n",
       "Orange         Santa Ana Unified                                        3.886667\n",
       "Los Angeles    Los Angeles County Office of Education                   3.130000\n",
       "Sacramento     Twin Rivers Unified                                      3.095000\n",
       "San Diego      San Diego Unified                                        2.780000\n",
       "Ventura        Oxnard Union High                                        2.255000\n",
       "Riverside      Riverside County Office of Education                     2.000000\n",
       "Contra Costa   West Contra Costa Unified                                1.450000\n",
       "Los Angeles    Norwalk-La Mirada Unified                                1.160000\n",
       "Orange         Orange Unified                                           0.000000\n",
       "Colusa         Williams Unified                                         0.000000\n",
       "San Bernardino Chino Valley Unified                                     0.000000\n",
       "Riverside      Moreno Valley Unified                                    0.000000\n",
       "San Diego      San Diego County Office of Education                     0.000000\n",
       "Fresno         Golden Plains Unified                                    0.000000\n",
       "Los Angeles    Paramount Unified                                        0.000000\n",
       "Inyo           Inyo County Office of Education                          0.000000\n",
       "Los Angeles    Covina-Valley Unified                                    0.000000\n",
       "Alameda        Alameda Unified                                          0.000000"
      ]
     },
     "execution_count": 21,
     "metadata": {},
     "output_type": "execute_result"
    }
   ],
   "source": [
    "# Identifying districts and counties with an average < 10% meeting the both ERW and Math benchmarks\n",
    "\n",
    "sat_benchmark_below_10_perc_dist = sat_benchmark_below_10_perc.groupby(['county_name','district_name'])[['pct_test_takers_benchmark']].mean().sort_values(by='pct_test_takers_benchmark',ascending=True)\n",
    "print(sat_benchmark_below_10_perc_dist.value_counts('county_name'))\n",
    "sat_benchmark_below_10_perc_dist.head(60).sort_values(by='pct_test_takers_benchmark', ascending=False)"
   ]
  },
  {
   "cell_type": "markdown",
   "metadata": {},
   "source": [
    "The counties most associated with worst-performing districts are Los Angeles, Riverside and Fresno. Riverside contains 10 districts, Riverside contains 4 and Fresno contains 4. The rest of the couunties are only associated with 1 or 2 districts. "
   ]
  },
  {
   "cell_type": "markdown",
   "metadata": {},
   "source": [
    "### 3.2. Subjects\n",
    "\n",
    "***Note:*** *Unlike the ACT dataset, the SAT dataset did not include the schools' average scores. Instead, it included the percentage of participants that met each of the subjects' benchmark score. As a result, that information will be used to gauge subject performance.*"
   ]
  },
  {
   "cell_type": "code",
   "execution_count": 22,
   "metadata": {},
   "outputs": [
    {
     "name": "stdout",
     "output_type": "stream",
     "text": [
      "Overall Schools Average\n",
      "pct_erw_benchmark     68.0\n",
      "pct_math_benchmark    46.0\n",
      "dtype: float64\n",
      "\n",
      "Worst-Performing Schools Average\n",
      "pct_erw_benchmark     27.0\n",
      "pct_math_benchmark     7.0\n",
      "dtype: float64\n"
     ]
    }
   ],
   "source": [
    "# Calculating the average percent of participants who met the benchmark for each of the subjects\n",
    "\n",
    "sat_benchmark_avg = sat[['pct_erw_benchmark','pct_math_benchmark']].mean().round(0)\n",
    "sat_benchmark_below_10_perc_benchmark_avg = sat_benchmark_below_10_perc[['pct_erw_benchmark','pct_math_benchmark']].mean().round(0)\n",
    "\n",
    "print('Overall Schools Average')\n",
    "print(sat_benchmark_avg)\n",
    "print('')\n",
    "print('Worst-Performing Schools Average')\n",
    "print(sat_benchmark_below_10_perc_benchmark_avg)"
   ]
  },
  {
   "cell_type": "code",
   "execution_count": 23,
   "metadata": {},
   "outputs": [
    {
     "data": {
      "image/png": "[encoded data removed]",
      "text/plain": [
       "<Figure size 432x288 with 1 Axes>"
      ]
     },
     "metadata": {
      "needs_background": "light"
     },
     "output_type": "display_data"
    }
   ],
   "source": [
    "# Average % Benchmark Participants by Subject (SAT): Overall vs. Worst-Performing Schools\n",
    "\n",
    "# Plotting a barchart\n",
    "plt.bar(np.arange(2) -0.2, sat_benchmark_avg, width=0.4, label = 'Overall')\n",
    "plt.bar(np.arange(2) +0.2, sat_benchmark_below_10_perc_benchmark_avg, width=0.4, label = 'Worst-Performing')\n",
    "\n",
    "if __name__ == '__main__':\n",
    "    x = ['ERW','MATH']\n",
    "    y1 = [68,46]\n",
    "    y2 = [27,7]\n",
    "\n",
    "add_labels_bar(x,y1,ha='right')\n",
    "add_labels_bar(x,y2,ha='left')\n",
    "\n",
    "plt.title('Average % Benchmark Participants by Subject (SAT): \\n Overall vs. Worst-Performing Schools', fontsize=14)\n",
    "plt.xlabel('Subject')\n",
    "plt.ylabel('Benchmark Participant %')\n",
    "plt.xticks(ticks=[0,1], labels=['ERW','Math'], rotation=0)\n",
    "plt.legend();"
   ]
  },
  {
   "cell_type": "markdown",
   "metadata": {},
   "source": [
    "Overall, 68% of participants met or exceeded the ERW benchmark, and 46% met or exceeded the Math benchmark. Of the worst-performing schools, 27% met or exceeded the ERW benchmark, and 7% met the Math benchmark. The averages between the overall and worst-performing schools seem to be off by around 40%. "
   ]
  },
  {
   "cell_type": "code",
   "execution_count": 24,
   "metadata": {},
   "outputs": [
    {
     "data": {
      "image/png": "[encoded data removed]",
      "text/plain": [
       "<Figure size 432x288 with 1 Axes>"
      ]
     },
     "metadata": {
      "needs_background": "light"
     },
     "output_type": "display_data"
    }
   ],
   "source": [
    "# Average % Benchmark Participants by Subject (SAT): Overall Schools\n",
    "\n",
    "sns.boxplot(data=sat[['pct_erw_benchmark','pct_math_benchmark']])\n",
    "\n",
    "plt.title('Average % Benchmark Participants by Subject (SAT): \\n Overall Schools', fontsize=14)\n",
    "plt.xlabel('Subject')\n",
    "plt.xticks(ticks=[0,1], labels=['ERW','Math'], rotation=0)\n",
    "plt.ylabel('Benchmark Participant %');"
   ]
  },
  {
   "cell_type": "markdown",
   "metadata": {},
   "source": [
    "The box plot above shows the center and the spread of the overall average percentages of participants that met both subject benchmarks. The center for ERW is 68% and it's spread roughly spans from 55-85%. The center for Math is 46% and it's spread roughly spans from 30-65%. The whiskers for both extend as high as 100%, and as low as about 10% for ERW and 0% for Math. ERW has a few outliers that lie beyond the minimum."
   ]
  },
  {
   "cell_type": "code",
   "execution_count": 25,
   "metadata": {},
   "outputs": [
    {
     "data": {
      "image/png": "[encoded data removed]",
      "text/plain": [
       "<Figure size 432x288 with 1 Axes>"
      ]
     },
     "metadata": {
      "needs_background": "light"
     },
     "output_type": "display_data"
    }
   ],
   "source": [
    "# Average % Benchmark Participants by Subject (SAT): Worst-Performing Schools\n",
    "\n",
    "sns.boxplot(data=sat_benchmark_below_10_perc[['pct_erw_benchmark','pct_math_benchmark']])\n",
    "\n",
    "plt.title('Average % Benchmark Participants by Subject (SAT): \\n Worst-Performing Schools', fontsize=14)\n",
    "plt.xlabel('Subject')\n",
    "plt.xticks(ticks=[0,1], labels=['ERW','Math'], rotation=0)\n",
    "plt.ylabel('Benchmark Participant %');"
   ]
  },
  {
   "cell_type": "markdown",
   "metadata": {},
   "source": [
    "This box plot shows the center and spread of the worst-performing school average percentages of participants that met both subject benchmarks. The center for ERW is 27% and it's spread roughly spans from 20-35%. The whiskers extend as high as 60% and as low as 0%. The center for Math is 7% and it's spread roughly spans from 5-10%. The whiskers there extend as high as 20% and as low as 0%. Math has a couple outliers that lie beyond the maximum."
   ]
  },
  {
   "cell_type": "markdown",
   "metadata": {},
   "source": [
    "### 3.3. SAT Summary\n",
    "\n",
    "The counties most associated with worst-performing schools are Los Angeles, Riverside and Fresno.\n",
    "\n",
    "As for subjects, considering that both subject benchmarks need to be met, it seems that Math is giving participants more difficulty.\n",
    "\n",
    "---"
   ]
  },
  {
   "cell_type": "markdown",
   "metadata": {},
   "source": [
    "## 4. Insights\n",
    "\n",
    "### 4.1. By school, district & county\n",
    "\n",
    "Between the ACT and SAT, the ACT had more districts with higher benchmark student percentages giving it more of a left-skewed distribution, while the SAT held more of a normal distribution with more districts concentrated in the middle percentiles.\n",
    "\n",
    "In the ACT dataset, there were 353 districts represented and 29 (8%) of those had schools with less than 10% benchmark participants. In the SAT dataset, there were 406 districts represented and 38 (9%) of those had schools with less than 10% benchmark participants.\n",
    "\n",
    "Between the ACT and SAT datasets, there were 52 distinct districts and there was a heavier concentration of these worst-performing districts in 3 counties: Los Angeles, Fresno and Riverside. Respectively, they claim 11, 6, and 6 worst-performing districts, and together they make up 44% of the worst-performing districts.\n",
    "\n",
    "### 4.2. By subject\n",
    "\n",
    "The ACT dataset provided each school's average score by subject, through which the state's average score by subject was determined, and are as follows: Reading (22), English (21), Math (21) and Science (21). The worst-performing schools' averages are: Reading (16), English (14), Math (16) and Science (16).\n",
    "\n",
    "Based on these averages, there is no subject that can be considered worst-performing, either overall or at worst-performing schools.\n",
    "\n",
    "The SAT dataset provided each school's percent of participants who met or exceeded the benchmark, through which the state's average percent of participants who met or exceeded the benchmark was determined, and are as follows: Evidence-Based Reading & Writing (68%) and Math (46%). The worst-performing school's averages are: Evidence-Based Reading & Writing (27%) and Math (7%).\n",
    "\n",
    "Based on these averages, Math is the subject that is giving participants significant difficulty, both overall and at worst-performing schools.\n",
    "\n",
    "---"
   ]
  },
  {
   "cell_type": "markdown",
   "metadata": {},
   "source": [
    "## 5. Conclusion, Recommendations & Next Steps\n",
    "\n",
    "The recommendation is to start by focusing on the districts in the top 3 counties with the most number of worst-performing districts: Los Angeles, Fresno & Riverside.  These counties/districts will require a higher quality of instruction & delivery style on all subjects with an emphasis on Math.\n",
    "\n",
    "As next steps, since there were some limitations in this analysis, a separate analysis will be beneficial to assess the current quality of instruction and delivery style at these worst-performing districts. This will allow the state to determine what exactly needs to be implemented and/or changed so that the state can make an efficient use of its resources. "
   ]
  }
 ],
 "metadata": {
  "anaconda-cloud": {},
  "kernelspec": {
   "display_name": "Python 3 (ipykernel)",
   "language": "python",
   "name": "python3"
  },
  "language_info": {
   "codemirror_mode": {
    "name": "ipython",
    "version": 3
   },
   "file_extension": ".py",
   "mimetype": "text/x-python",
   "name": "python",
   "nbconvert_exporter": "python",
   "pygments_lexer": "ipython3",
   "version": "3.9.7"
  }
 },
 "nbformat": 4,
 "nbformat_minor": 4
}
